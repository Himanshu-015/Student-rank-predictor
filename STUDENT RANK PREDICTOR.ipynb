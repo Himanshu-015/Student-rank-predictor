{
 "cells": [
  {
   "cell_type": "code",
   "execution_count": 25,
   "id": "4fab425a",
   "metadata": {},
   "outputs": [
    {
     "name": "stdout",
     "output_type": "stream",
     "text": [
      "Mean Absolute Error: 61.904761904761926\n"
     ]
    },
    {
     "data": {
      "image/png": "[encoded data removed]",
      "text/plain": [
       "<Figure size 1000x600 with 1 Axes>"
      ]
     },
     "metadata": {},
     "output_type": "display_data"
    },
    {
     "name": "stdout",
     "output_type": "stream",
     "text": [
      "\n",
      "Likely Colleges Based on Predicted Rank:\n",
      "                                      college_name course_name category  \\\n",
      "1  All India Institute of Medical Sciences (AIIMS)        MBBS      OBC   \n",
      "5              Maulana Azad Medical College (MAMC)        MBBS      OBC   \n",
      "6                   Banaras Hindu University (BHU)         BDS  General   \n",
      "9    University College of Medical Sciences (UCMS)        MBBS       SC   \n",
      "2          King George's Medical University (KGMU)        MBBS       SC   \n",
      "\n",
      "   cutoff_rank  cutoff_score  \n",
      "1         2500           690  \n",
      "5         3000           685  \n",
      "6         3500           675  \n",
      "9         4500           660  \n",
      "2         5000           650  \n",
      "\n",
      "Predicted NEET Rank for the individual student: 1500.0\n",
      "\n",
      "Likely Colleges Based on Individual Student's Predicted Rank:\n",
      "                                      college_name course_name category  \\\n",
      "0  All India Institute of Medical Sciences (AIIMS)        MBBS  General   \n",
      "4              Maulana Azad Medical College (MAMC)        MBBS  General   \n",
      "1  All India Institute of Medical Sciences (AIIMS)        MBBS      OBC   \n",
      "5              Maulana Azad Medical College (MAMC)        MBBS      OBC   \n",
      "6                   Banaras Hindu University (BHU)         BDS  General   \n",
      "\n",
      "   cutoff_rank  cutoff_score  \n",
      "0         1500           700  \n",
      "4         1800           695  \n",
      "1         2500           690  \n",
      "5         3000           685  \n",
      "6         3500           675  \n"
     ]
    }
   ],
   "source": [
    "import pandas as pd\n",
    "import numpy as np\n",
    "from sklearn.model_selection import train_test_split\n",
    "from sklearn.preprocessing import StandardScaler\n",
    "from sklearn.linear_model import LinearRegression\n",
    "from sklearn.metrics import mean_absolute_error\n",
    "import matplotlib.pyplot as plt\n",
    "\n",
    "# Load Data\n",
    "quiz_data = pd.read_csv('current_quiz_data.csv')  # Assuming the file contains columns: 'student_id', 'topic', 'question_id', 'selected_option', 'correct_option'\n",
    "historical_data = pd.read_csv('historicals_quiz_data.csv')  # Assuming columns: 'student_id', 'quiz_id', 'score', 'neet_rank'\n",
    "colleges = pd.read_csv('college_cutoff.csv')  # Assuming columns: 'college_name', 'cutoff_rank'\n",
    "\n",
    "# Step 1: Data Preprocessing and Feature Engineering\n",
    "# Calculate correctness of answers in the quiz data\n",
    "quiz_data['is_correct'] = quiz_data['selected_option_id'] == quiz_data['correct_answers']\n",
    "\n",
    "# Calculate average accuracy per topic\n",
    "topic_accuracy = quiz_data.groupby('topic_id')['is_correct'].mean()\n",
    "\n",
    "# Calculate historical average score for each student\n",
    "historical_scores = historical_data.groupby('student_id')['score'].mean()\n",
    "\n",
    "# For simplicity, we'll assume the accuracy by topic is enough, but you could also include more detailed features\n",
    "features = pd.DataFrame({\n",
    "    'avg_score': historical_scores,\n",
    "    'physics_accuracy': topic_accuracy.get('Physics', 0),\n",
    "    'chemistry_accuracy': topic_accuracy.get('Chemistry', 0),\n",
    "    'biology_accuracy': topic_accuracy.get('Biology', 0),\n",
    "})\n",
    "\n",
    "# Assuming 'neet_rank' is available in the historical quiz data\n",
    "labels = historical_data.groupby('student_id')['neet_rank'].first()  # Ensure you're associating rank with the correct student\n",
    "\n",
    "# Step 2: Train-Test Split\n",
    "X_train, X_test, y_train, y_test = train_test_split(features, labels, test_size=0.2, random_state=42)\n",
    "\n",
    "# Standardizing the features\n",
    "scaler = StandardScaler()\n",
    "X_train = scaler.fit_transform(X_train)\n",
    "X_test = scaler.transform(X_test)\n",
    "\n",
    "# Step 3: Model Training - Linear Regression (can replace with more advanced models)\n",
    "model = LinearRegression()\n",
    "model.fit(X_train, y_train)\n",
    "\n",
    "# Step 4: Model Evaluation\n",
    "predicted_ranks = model.predict(X_test)\n",
    "\n",
    "# Evaluate the model\n",
    "mae = mean_absolute_error(y_test, predicted_ranks)\n",
    "print(f\"Mean Absolute Error: {mae}\")\n",
    "\n",
    "# Visualizing Predicted vs Actual Ranks\n",
    "plt.figure(figsize=(10,6))\n",
    "plt.scatter(y_test, predicted_ranks)\n",
    "plt.plot([y_test.min(), y_test.max()], [y_test.min(), y_test.max()], color='red', lw=2)\n",
    "plt.xlabel('Actual Ranks')\n",
    "plt.ylabel('Predicted Ranks')\n",
    "plt.title('Actual vs Predicted NEET Ranks')\n",
    "plt.show()\n",
    "\n",
    "# Step 5: Predicting Likely Colleges Based on Predicted Rank\n",
    "# Sort colleges by cutoff rank\n",
    "colleges_sorted = colleges.sort_values(by='cutoff_rank')\n",
    "\n",
    "# Function to predict likely colleges based on predicted rank\n",
    "def predict_college(predicted_rank, colleges_sorted):\n",
    "    possible_colleges = colleges_sorted[colleges_sorted['cutoff_rank'] >= predicted_rank]\n",
    "    return possible_colleges.head(5)  # Returning the top 5 colleges\n",
    "\n",
    "# Example: Predict the college for a student with predicted rank 2000\n",
    "predicted_rank = 2000\n",
    "likely_colleges = predict_college(predicted_rank, colleges_sorted)\n",
    "print(\"\\nLikely Colleges Based on Predicted Rank:\")\n",
    "print(likely_colleges)\n",
    "\n",
    "# Example: Predict rank and possible college for an individual student\n",
    "individual_student_features = pd.DataFrame({\n",
    "    'avg_score': [75],  # Example score from quizzes\n",
    "    'physics_accuracy': [0.8],  # Example topic accuracy for Physics\n",
    "    'chemistry_accuracy': [0.7],  # Example topic accuracy for Chemistry\n",
    "    'biology_accuracy': [0.9],  # Example topic accuracy for Biology\n",
    "})\n",
    "\n",
    "# Normalize the features\n",
    "individual_student_features = scaler.transform(individual_student_features)\n",
    "\n",
    "# Predict the rank\n",
    "predicted_individual_rank = model.predict(individual_student_features)\n",
    "print(f\"\\nPredicted NEET Rank for the individual student: {predicted_individual_rank[0]}\")\n",
    "\n",
    "# Predict the most likely colleges\n",
    "likely_colleges_individual = predict_college(predicted_individual_rank[0], colleges_sorted)\n",
    "print(\"\\nLikely Colleges Based on Individual Student's Predicted Rank:\")\n",
    "print(likely_colleges_individual)\n"
   ]
  },
  {
   "cell_type": "code",
   "execution_count": 2,
   "id": "05ca7a81",
   "metadata": {},
   "outputs": [
    {
     "name": "stdout",
     "output_type": "stream",
     "text": [
      "CSV file saved as current_quiz_data.csv\n"
     ]
    }
   ],
   "source": [
    "import pandas as pd\n",
    "\n",
    "# Sample data\n",
    "data = {\n",
    "    'student_id': [101, 101, 102, 103, 101, 102],\n",
    "    'quiz_id': [1, 1, 1, 1, 2, 2],\n",
    "    'question_id': [101, 102, 103, 104, 201, 202],\n",
    "    'selected_option_id': [3, 2, 1, 4, 3, 2],\n",
    "    'topic_id': [1, 2, 1, 3, 1, 2],\n",
    "    'difficulty_level': ['easy', 'medium', 'easy', 'hard', 'medium', 'easy'],\n",
    "    'timestamp': ['2025-02-02 10:00:00', '2025-02-02 10:00:00', '2025-02-02 10:05:00', \n",
    "                  '2025-02-02 10:10:00', '2025-02-02 10:30:00', '2025-02-02 10:35:00'],\n",
    "    'total_questions': [10, 10, 10, 10, 10, 10],\n",
    "    'correct_answers': [8, 8, 7, 5, 9, 6],\n",
    "    'time_taken': [120, 120, 150, 180, 110, 140]\n",
    "}\n",
    "\n",
    "# Create DataFrame\n",
    "df = pd.DataFrame(data)\n",
    "\n",
    "# Save to CSV\n",
    "csv_file = 'current_quiz_data.csv'\n",
    "df.to_csv(csv_file, index=False)\n",
    "\n",
    "print(f'CSV file saved as {csv_file}')\n"
   ]
  },
  {
   "cell_type": "code",
   "execution_count": 6,
   "id": "0053b409",
   "metadata": {},
   "outputs": [
    {
     "name": "stdout",
     "output_type": "stream",
     "text": [
      "CSV file saved as college_cutoff.csv\n"
     ]
    }
   ],
   "source": [
    "import pandas as pd\n",
    "\n",
    "# Sample college cutoff data\n",
    "data = {\n",
    "    'college_name': [\n",
    "        'All India Institute of Medical Sciences (AIIMS)', 'All India Institute of Medical Sciences (AIIMS)',\n",
    "        'King George\\'s Medical University (KGMU)', 'King George\\'s Medical University (KGMU)',\n",
    "        'Maulana Azad Medical College (MAMC)', 'Maulana Azad Medical College (MAMC)',\n",
    "        'Banaras Hindu University (BHU)', 'Banaras Hindu University (BHU)',\n",
    "        'University College of Medical Sciences (UCMS)', 'University College of Medical Sciences (UCMS)'\n",
    "    ],\n",
    "    'course_name': ['MBBS', 'MBBS', 'MBBS', 'MBBS', 'MBBS', 'MBBS', 'BDS', 'BDS', 'MBBS', 'MBBS'],\n",
    "    'category': ['General', 'OBC', 'SC', 'ST', 'General', 'OBC', 'General', 'OBC', 'General', 'SC'],\n",
    "    'cutoff_rank': [1500, 2500, 5000, 6000, 1800, 3000, 3500, 5000, 1200, 4500],\n",
    "    'cutoff_score': [700, 690, 650, 640, 695, 685, 675, 660, 710, 660]\n",
    "}\n",
    "\n",
    "# Create DataFrame\n",
    "df = pd.DataFrame(data)\n",
    "\n",
    "# Save to CSV\n",
    "csv_file = 'college_cutoff.csv'\n",
    "df.to_csv(csv_file, index=False)\n",
    "\n",
    "print(f'CSV file saved as {csv_file}')\n"
   ]
  },
  {
   "cell_type": "code",
   "execution_count": 21,
   "id": "43062194",
   "metadata": {},
   "outputs": [
    {
     "name": "stdout",
     "output_type": "stream",
     "text": [
      "historical_quiz_data.csv file created successfully!\n"
     ]
    }
   ],
   "source": [
    "import pandas as pd\n",
    "\n",
    "# Sample data for historical_quiz_data.csv file\n",
    "data = {\n",
    "    'student_id': [1, 1, 1, 2, 2, 2, 3, 3, 3],\n",
    "    'quiz_id': [1, 2, 3, 1, 2, 3, 1, 2, 3],\n",
    "    'score': [85, 88, 90, 70, 75, 80, 95, 97, 96],\n",
    "    'neet_rank': [1200, 1150, 1100, 1500, 1400, 1300, 900, 850, 900]\n",
    "}\n",
    "\n",
    "# Create a DataFrame\n",
    "df = pd.DataFrame(data)\n",
    "\n",
    "# Save it as a CSV file\n",
    "df.to_csv('historicals_quiz_data.csv', index=False)\n",
    "\n",
    "print(\"historical_quiz_data.csv file created successfully!\")\n"
   ]
  },
  {
   "cell_type": "code",
   "execution_count": null,
   "id": "27b76da0",
   "metadata": {},
   "outputs": [],
   "source": []
  }
 ],
 "metadata": {
  "kernelspec": {
   "display_name": "Python 3 (ipykernel)",
   "language": "python",
   "name": "python3"
  },
  "language_info": {
   "codemirror_mode": {
    "name": "ipython",
    "version": 3
   },
   "file_extension": ".py",
   "mimetype": "text/x-python",
   "name": "python",
   "nbconvert_exporter": "python",
   "pygments_lexer": "ipython3",
   "version": "3.11.4"
  }
 },
 "nbformat": 4,
 "nbformat_minor": 5
}
